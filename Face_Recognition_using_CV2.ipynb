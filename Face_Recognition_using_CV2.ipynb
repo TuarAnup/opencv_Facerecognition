{
 "cells": [
  {
   "cell_type": "code",
   "execution_count": null,
   "id": "1f3203b6",
   "metadata": {},
   "outputs": [],
   "source": [
    "import cv2\n",
    "import face_recognition"
   ]
  },
  {
   "cell_type": "code",
   "execution_count": null,
   "id": "9c14b254",
   "metadata": {},
   "outputs": [],
   "source": [
    "from simple_facerec import SimpleFacerec"
   ]
  },
  {
   "cell_type": "markdown",
   "id": "fe82e2ce",
   "metadata": {},
   "source": [
    "Reading the image"
   ]
  },
  {
   "cell_type": "code",
   "execution_count": 6,
   "id": "a32783f1",
   "metadata": {},
   "outputs": [],
   "source": [
    "img = cv2.imread(\"Messi1.webp\")\n",
    "# cv2.imshow(\"Image\",img)\n",
    "# cv2.waitKey(0)\n",
    "\n"
   ]
  },
  {
   "cell_type": "markdown",
   "id": "6334a354",
   "metadata": {},
   "source": [
    "Encoding images "
   ]
  },
  {
   "cell_type": "code",
   "execution_count": 7,
   "id": "b451ca32",
   "metadata": {},
   "outputs": [],
   "source": [
    "\n",
    "rgb_img = cv2.cvtColor(img,cv2.COLOR_BGR2RGB)\n",
    "img_emcoding = face_recognition.face_encodings(rgb_img)[0]\n"
   ]
  },
  {
   "cell_type": "code",
   "execution_count": 10,
   "id": "65d47d45",
   "metadata": {},
   "outputs": [
    {
     "data": {
      "text/plain": [
       "array([-0.15317608,  0.11550124,  0.0519377 , -0.02601065, -0.13780433,\n",
       "        0.12650484, -0.05446632, -0.06976623,  0.11499013, -0.07442625,\n",
       "        0.24907197, -0.08307421, -0.3095108 ,  0.03118445, -0.06385995,\n",
       "        0.11342013, -0.13882968, -0.05114852, -0.11017057, -0.20850438,\n",
       "       -0.03290552,  0.09617092, -0.00319101, -0.00992201, -0.16317518,\n",
       "       -0.2584725 , -0.00296257, -0.17273036,  0.0692558 , -0.14343886,\n",
       "       -0.05158128,  0.01920339, -0.08469333, -0.0118751 ,  0.05409314,\n",
       "        0.04483528, -0.00957701, -0.0585751 ,  0.2337082 , -0.07038921,\n",
       "       -0.06249231,  0.00712143,  0.13706744,  0.27025715,  0.10487096,\n",
       "        0.010401  , -0.01161207, -0.10440043,  0.20039429, -0.22453682,\n",
       "        0.14081821,  0.1324425 ,  0.18262398,  0.10991327,  0.06287841,\n",
       "       -0.16909687, -0.0515092 ,  0.16557646, -0.1618897 ,  0.11103813,\n",
       "        0.11973472,  0.04621185, -0.09108631, -0.12560301,  0.25990635,\n",
       "        0.19760454, -0.13721627, -0.18778142,  0.13346715, -0.13141434,\n",
       "       -0.0769744 ,  0.06797358, -0.13278979, -0.1121542 , -0.16468662,\n",
       "        0.09459051,  0.33055925,  0.13975124, -0.16879338, -0.04627639,\n",
       "       -0.06554744, -0.0776562 , -0.00934023,  0.03326331, -0.15129708,\n",
       "       -0.05153719,  0.04816496,  0.02788608,  0.22949153, -0.00756332,\n",
       "       -0.02358052,  0.21681981,  0.05427814, -0.01928148,  0.02525566,\n",
       "        0.01044916, -0.15332088, -0.0738422 , -0.08596642, -0.02776593,\n",
       "        0.0089981 , -0.1438686 ,  0.05695061,  0.1056949 , -0.2433272 ,\n",
       "        0.21666218, -0.06403252,  0.00684338,  0.06124407,  0.04046883,\n",
       "       -0.0393131 ,  0.00983313,  0.25444034, -0.25766289,  0.17964451,\n",
       "        0.07863934,  0.12660515,  0.13163096,  0.05720492,  0.10391953,\n",
       "        0.04582995,  0.0901559 , -0.16159311, -0.1058711 ,  0.0715235 ,\n",
       "       -0.11186565, -0.00056128,  0.06201097])"
      ]
     },
     "execution_count": 10,
     "metadata": {},
     "output_type": "execute_result"
    }
   ],
   "source": [
    "img_emcoding"
   ]
  },
  {
   "cell_type": "code",
   "execution_count": 6,
   "id": "632ca38e",
   "metadata": {},
   "outputs": [],
   "source": [
    "img2 = cv2.imread(\"images/Anup.jpeg\")\n",
    "# cv2.imshow(img2)\n",
    "#cv2.waitKey(0)\n",
    "rgb_img2 = cv2.cvtColor(img2,cv2.COLOR_BGR2RGB)\n",
    "img_emcoding2 = face_recognition.face_encodings(rgb_img2)[0]"
   ]
  },
  {
   "cell_type": "markdown",
   "id": "c16af890",
   "metadata": {},
   "source": [
    "Lets check whether the two images is same person or not !"
   ]
  },
  {
   "cell_type": "code",
   "execution_count": 7,
   "id": "9f56f596",
   "metadata": {},
   "outputs": [
    {
     "name": "stdout",
     "output_type": "stream",
     "text": [
      "Result : [False]\n"
     ]
    }
   ],
   "source": [
    "result = face_recognition.compare_faces([img_emcoding],img_emcoding2)\n",
    "print(\"Result :\",result)"
   ]
  },
  {
   "cell_type": "code",
   "execution_count": 9,
   "id": "ab8e41e9",
   "metadata": {},
   "outputs": [],
   "source": [
    "img3 = cv2.imread(\"images/Messi.webp\")\n",
    "# cv2.imshow(img3)\n",
    "#cv2.waitKey(0)\n",
    "rgb_img3 = cv2.cvtColor(img2,cv2.COLOR_BGR2RGB)\n",
    "img_emcoding3 = face_recognition.face_encodings(rgb_img3)[0]\n"
   ]
  },
  {
   "cell_type": "markdown",
   "id": "0258223d",
   "metadata": {},
   "source": [
    "lets check messi with messi other images"
   ]
  },
  {
   "cell_type": "code",
   "execution_count": 10,
   "id": "411e978c",
   "metadata": {},
   "outputs": [
    {
     "name": "stdout",
     "output_type": "stream",
     "text": [
      "Result : [False]\n"
     ]
    }
   ],
   "source": [
    "result2 = face_recognition.compare_faces([img_emcoding],img_emcoding3)\n",
    "print(\"Result :\",result2)"
   ]
  },
  {
   "cell_type": "markdown",
   "id": "e18ab79c",
   "metadata": {},
   "source": [
    "#WebCam Face_Recognition"
   ]
  },
  {
   "cell_type": "markdown",
   "id": "189a812d",
   "metadata": {},
   "source": [
    "Encode Faces from a folder"
   ]
  },
  {
   "cell_type": "code",
   "execution_count": 3,
   "id": "c7d765e9",
   "metadata": {},
   "outputs": [
    {
     "name": "stdout",
     "output_type": "stream",
     "text": [
      "6 encoding images found.\n"
     ]
    },
    {
     "ename": "UnboundLocalError",
     "evalue": "local variable 'all_embeddings' referenced before assignment",
     "output_type": "error",
     "traceback": [
      "\u001b[0;31m---------------------------------------------------------------------------\u001b[0m",
      "\u001b[0;31mUnboundLocalError\u001b[0m                         Traceback (most recent call last)",
      "Input \u001b[0;32mIn [3]\u001b[0m, in \u001b[0;36m<module>\u001b[0;34m\u001b[0m\n\u001b[1;32m      1\u001b[0m sfr \u001b[38;5;241m=\u001b[39m SimpleFacerec()\n\u001b[0;32m----> 2\u001b[0m \u001b[43msfr\u001b[49m\u001b[38;5;241;43m.\u001b[39;49m\u001b[43mload_encoding_images\u001b[49m\u001b[43m(\u001b[49m\u001b[38;5;124;43m\"\u001b[39;49m\u001b[38;5;124;43mimages\u001b[39;49m\u001b[38;5;124;43m\"\u001b[39;49m\u001b[43m)\u001b[49m\n",
      "File \u001b[0;32m~/Desktop/opencv_Facerecognition/simple_facerec.py:42\u001b[0m, in \u001b[0;36mSimpleFacerec.load_encoding_images\u001b[0;34m(self, images_path)\u001b[0m\n\u001b[1;32m     39\u001b[0m     \u001b[38;5;28mself\u001b[39m\u001b[38;5;241m.\u001b[39mknown_face_encodings\u001b[38;5;241m.\u001b[39mappend(img_encoding)\n\u001b[1;32m     40\u001b[0m     \u001b[38;5;28mself\u001b[39m\u001b[38;5;241m.\u001b[39mknown_face_names\u001b[38;5;241m.\u001b[39mappend(filename)\n\u001b[0;32m---> 42\u001b[0m all_embeddings \u001b[38;5;241m=\u001b[39m np\u001b[38;5;241m.\u001b[39marray(\u001b[43mall_embeddings\u001b[49m)\n\u001b[1;32m     43\u001b[0m np\u001b[38;5;241m.\u001b[39msave(\u001b[38;5;124m'\u001b[39m\u001b[38;5;124membeddings.npy\u001b[39m\u001b[38;5;124m'\u001b[39m, all_embeddings)\n\u001b[1;32m     44\u001b[0m \u001b[38;5;28mprint\u001b[39m(\u001b[38;5;124m\"\u001b[39m\u001b[38;5;124mEncoding images loaded\u001b[39m\u001b[38;5;124m\"\u001b[39m)\n",
      "\u001b[0;31mUnboundLocalError\u001b[0m: local variable 'all_embeddings' referenced before assignment"
     ]
    }
   ],
   "source": [
    "sfr = SimpleFacerec()\n",
    "sfr.load_encoding_images(\"images\")"
   ]
  },
  {
   "cell_type": "code",
   "execution_count": null,
   "id": "8c9af51d",
   "metadata": {},
   "outputs": [],
   "source": [
    "#Load_Camera\n",
    "cap = cv2.VideoCapture(0)\n",
    "\n",
    "while True:\n",
    "    ret, frame = cap.read()\n",
    "    face_locations, face_names = sfr.detect_known_faces(frame)\n",
    "    for face_loc,name in zip(face_locations,face_names):\n",
    "        top,left,bottom,right = face_loc[0],face_loc[1],face_loc[2],face_loc[3]\n",
    "        cv2.putText(frame,name,(right,top-10),cv2.FONT_HERSHEY_DUPLEX,1,(255,255,255),2)\n",
    "        cv2.rectangle(frame,(left,top),(right,bottom),(0,0,200),2)\n",
    "    \n",
    "    cv2.imshow(\"Frame\", frame)\n",
    "    key = cv2.waitKey(1)\n",
    "    if key == 27:\n",
    "        break\n",
    "        \n",
    "cap.release()\n",
    "cv2.destroyAllWindows()"
   ]
  },
  {
   "cell_type": "code",
   "execution_count": null,
   "id": "0e2769d2",
   "metadata": {},
   "outputs": [],
   "source": []
  }
 ],
 "metadata": {
  "kernelspec": {
   "display_name": "Python 3 (ipykernel)",
   "language": "python",
   "name": "python3"
  },
  "language_info": {
   "codemirror_mode": {
    "name": "ipython",
    "version": 3
   },
   "file_extension": ".py",
   "mimetype": "text/x-python",
   "name": "python",
   "nbconvert_exporter": "python",
   "pygments_lexer": "ipython3",
   "version": "3.8.6"
  }
 },
 "nbformat": 4,
 "nbformat_minor": 5
}
