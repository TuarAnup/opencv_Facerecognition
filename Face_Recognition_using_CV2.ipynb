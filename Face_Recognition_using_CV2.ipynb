{
 "cells": [
  {
   "cell_type": "code",
   "execution_count": 3,
   "id": "1f3203b6",
   "metadata": {},
   "outputs": [],
   "source": [
    "import cv2\n",
    "import face_recognition"
   ]
  },
  {
   "cell_type": "code",
   "execution_count": 4,
   "id": "9c14b254",
   "metadata": {},
   "outputs": [],
   "source": [
    "from simple_facerec import SimpleFacerec"
   ]
  },
  {
   "cell_type": "markdown",
   "id": "fe82e2ce",
   "metadata": {},
   "source": [
    "Reading the image"
   ]
  },
  {
   "cell_type": "code",
   "execution_count": 6,
   "id": "a32783f1",
   "metadata": {},
   "outputs": [],
   "source": [
    "img = cv2.imread(\"Messi1.webp\")\n",
    "# cv2.imshow(\"Image\",img)\n",
    "# cv2.waitKey(0)\n",
    "\n"
   ]
  },
  {
   "cell_type": "markdown",
   "id": "6334a354",
   "metadata": {},
   "source": [
    "Encoding images "
   ]
  },
  {
   "cell_type": "code",
   "execution_count": 7,
   "id": "b451ca32",
   "metadata": {},
   "outputs": [],
   "source": [
    "\n",
    "rgb_img = cv2.cvtColor(img,cv2.COLOR_BGR2RGB)\n",
    "img_emcoding = face_recognition.face_encodings(rgb_img)[0]\n"
   ]
  },
  {
   "cell_type": "code",
   "execution_count": 8,
   "id": "632ca38e",
   "metadata": {},
   "outputs": [],
   "source": [
    "img2 = cv2.imread(\"images/Anup.jpeg\")\n",
    "# cv2.imshow(img2)\n",
    "#cv2.waitKey(0)\n",
    "rgb_img2 = cv2.cvtColor(img2,cv2.COLOR_BGR2RGB)\n",
    "img_emcoding2 = face_recognition.face_encodings(rgb_img2)[0]"
   ]
  },
  {
   "cell_type": "markdown",
   "id": "c16af890",
   "metadata": {},
   "source": [
    "Lets check whether the two images is same person or not !"
   ]
  },
  {
   "cell_type": "code",
   "execution_count": 9,
   "id": "9f56f596",
   "metadata": {},
   "outputs": [
    {
     "name": "stdout",
     "output_type": "stream",
     "text": [
      "Result : [False]\n"
     ]
    }
   ],
   "source": [
    "result = face_recognition.compare_faces([img_emcoding],img_emcoding2)\n",
    "print(\"Result :\",result)"
   ]
  },
  {
   "cell_type": "code",
   "execution_count": 10,
   "id": "ab8e41e9",
   "metadata": {},
   "outputs": [],
   "source": [
    "img3 = cv2.imread(\"images/Messi.webp\")\n",
    "# cv2.imshow(img3)\n",
    "#cv2.waitKey(0)\n",
    "rgb_img3 = cv2.cvtColor(img2,cv2.COLOR_BGR2RGB)\n",
    "img_emcoding3 = face_recognition.face_encodings(rgb_img3)[0]"
   ]
  },
  {
   "cell_type": "markdown",
   "id": "0258223d",
   "metadata": {},
   "source": [
    "lets check messi with messi other images"
   ]
  },
  {
   "cell_type": "code",
   "execution_count": 11,
   "id": "411e978c",
   "metadata": {},
   "outputs": [
    {
     "name": "stdout",
     "output_type": "stream",
     "text": [
      "Result : [False]\n"
     ]
    }
   ],
   "source": [
    "result2 = face_recognition.compare_faces([img_emcoding],img_emcoding3)\n",
    "print(\"Result :\",result2)"
   ]
  },
  {
   "cell_type": "markdown",
   "id": "e18ab79c",
   "metadata": {},
   "source": [
    "#WebCam Face_Recognition"
   ]
  },
  {
   "cell_type": "markdown",
   "id": "189a812d",
   "metadata": {},
   "source": [
    "Encode Faces from a folder"
   ]
  },
  {
   "cell_type": "code",
   "execution_count": 12,
   "id": "c7d765e9",
   "metadata": {},
   "outputs": [
    {
     "name": "stdout",
     "output_type": "stream",
     "text": [
      "6 encoding images found.\n",
      "Encoding images loaded\n"
     ]
    }
   ],
   "source": [
    "sfr = SimpleFacerec()\n",
    "sfr.load_encoding_images(\"images\")"
   ]
  },
  {
   "cell_type": "code",
   "execution_count": null,
   "id": "8c9af51d",
   "metadata": {},
   "outputs": [],
   "source": [
    "#Load_Camera\n",
    "cap = cv2.VideoCapture(0)\n",
    "\n",
    "while True:\n",
    "    ret, frame = cap.read()\n",
    "    face_locations, face_names = sfr.detect_known_faces(frame)\n",
    "    for face_loc,name in zip(face_locations,face_names):\n",
    "        top,left,bottom,right = face_loc[0],face_loc[1],face_loc[2],face_loc[3]\n",
    "        cv2.putText(frame,name,(right,top-10),cv2.FONT_HERSHEY_DUPLEX,1,(255,255,255),2)\n",
    "        cv2.rectangle(frame,(left,top),(right,bottom),(0,0,200),2)\n",
    "    \n",
    "    cv2.imshow(\"Frame\", frame)\n",
    "    key = cv2.waitKey(1)\n",
    "    if key == 27:\n",
    "        break\n",
    "        \n",
    "cap.release()\n",
    "cv2.destroyAllWindows()"
   ]
  },
  {
   "cell_type": "code",
   "execution_count": null,
   "id": "0e2769d2",
   "metadata": {},
   "outputs": [],
   "source": []
  }
 ],
 "metadata": {
  "kernelspec": {
   "display_name": "Python 3 (ipykernel)",
   "language": "python",
   "name": "python3"
  },
  "language_info": {
   "codemirror_mode": {
    "name": "ipython",
    "version": 3
   },
   "file_extension": ".py",
   "mimetype": "text/x-python",
   "name": "python",
   "nbconvert_exporter": "python",
   "pygments_lexer": "ipython3",
   "version": "3.8.6"
  }
 },
 "nbformat": 4,
 "nbformat_minor": 5
}
